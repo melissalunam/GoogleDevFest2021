{
  "nbformat": 4,
  "nbformat_minor": 0,
  "metadata": {
    "colab": {
      "name": "Introduccion_a_Python.ipynb",
      "provenance": [],
      "authorship_tag": "ABX9TyNYbCLvF0MDYeQBJMCFY+u3"
    },
    "kernelspec": {
      "name": "python3",
      "display_name": "Python 3"
    },
    "language_info": {
      "name": "python"
    }
  },
  "cells": [
    {
      "cell_type": "markdown",
      "metadata": {
        "id": "6RVhdJ16Ps1t"
      },
      "source": [
        "# Introducción"
      ]
    },
    {
      "cell_type": "markdown",
      "metadata": {
        "id": "p00ANKF_Qbke"
      },
      "source": [
        "*La siguiente información fue creada por [Melissa Luna](https://www.github.com/melissalunam) para fines educativos. <br> Este trabajo queda bajo la licencia GNU v3.0. Todos pueden copiar y distribuir copias textuales de este documento, pero no se permite cambiarlo.<br><br>Espero que esta Introducción a Python les sea de mucha ayuda. <br> Para cualquier consulta, me puedes contactar por mi correo electrónico: aime00cccma@gmail.com*"
      ]
    },
    {
      "cell_type": "markdown",
      "metadata": {
        "id": "e9UA8MFNPx2k"
      },
      "source": [
        "# Herramientas que necesitas antes que comenzar"
      ]
    },
    {
      "cell_type": "markdown",
      "metadata": {
        "id": "9Cj38JFCRBB_"
      },
      "source": [
        "Primero me gustaría platicarte que hay muchas formas de trabajar con Python: <br>\n",
        "1) Ya sea que quieras trabajar con [VisualStudioCode](https://www.code.visualstudio.com/) <br>\n",
        "2) Con [Anaconda](https://www.anaconda.com/products/individual) <br>\n",
        "3) Desde la terminal cmd <br>\n",
        "4) O desde [Colab](https://www.colab.research.google.com/) <br><br> Es importante saber que para algunas opciones es necesario instalar [Python](https://www.python.org/downloads/)."
      ]
    },
    {
      "cell_type": "markdown",
      "metadata": {
        "id": "9ibt7f9ySfNi"
      },
      "source": [
        "# Historia"
      ]
    },
    {
      "cell_type": "markdown",
      "metadata": {
        "id": "VAi9Sc1QYE1Y"
      },
      "source": [
        "# Hello World"
      ]
    },
    {
      "cell_type": "markdown",
      "metadata": {
        "id": "IMQO_KAgYNVG"
      },
      "source": [
        "Vamos a crear nuestra primera línea de código. En el siguiente ejercicio se muestra cómo imprimir el famoso \"Hello World\", pero también se muestra una de las maneras que Python tiene para imprimir."
      ]
    },
    {
      "cell_type": "code",
      "metadata": {
        "id": "zkt5NBCxYcNr"
      },
      "source": [
        "print(\"Hello World\")"
      ],
      "execution_count": null,
      "outputs": []
    },
    {
      "cell_type": "markdown",
      "metadata": {
        "id": "__73qyHUYjmx"
      },
      "source": [
        "# Tabs/espacios"
      ]
    },
    {
      "cell_type": "markdown",
      "metadata": {
        "id": "epBAx_CiYnw8"
      },
      "source": [
        "Es importante mencionar que Python es un lenguaje muy sensible a espacios, mayúsculas y minusculas. \n",
        "<br> Primero veremos los espacios. Cada que trabajemos con un for, while, def, etc. tendremos que respetar las identaciones. Ya sea que lo hagas mediante la tecla 'tab' o presiones la tecla 'espacio' 4 veces."
      ]
    },
    {
      "cell_type": "code",
      "metadata": {
        "id": "csXL6Yi4ZCk6"
      },
      "source": [
        "for i in [1,2,3,4,5]:\n",
        "  print(i) #En esta línea de código hay una identación\n",
        "print(\"fin\")"
      ],
      "execution_count": null,
      "outputs": []
    },
    {
      "cell_type": "markdown",
      "metadata": {
        "id": "yrX_qtPfZIrX"
      },
      "source": [
        "Por ahora no es importante que entiendas la función del código, si no que logres identificar el espacio o identación utilizada.\n",
        "<br> Veamos otro ejemplo."
      ]
    },
    {
      "cell_type": "code",
      "metadata": {
        "id": "fQc2DpNVZdE2"
      },
      "source": [
        "for i in [1,2,3,4,5]:\n",
        "  print(\"i: \", i)\n",
        "  for j in [1,2,3,4,5]:\n",
        "    print(\"\\t\", \"j: \", j) # \"\\t\" crea una tabulación al momento de imprimir\n",
        "  print(\"\\n\") # \"\\n\" crea un salto de línea al momento de imprimir\n",
        "print(\"fin\")"
      ],
      "execution_count": null,
      "outputs": []
    },
    {
      "cell_type": "markdown",
      "metadata": {
        "id": "fP9xb0fzZutc"
      },
      "source": [
        "Como podemos observar, cada espacio es importante, ya que le decimos a Python qué líneas corresponden a qué for. No te preocupes si es difícil entender esta línea de código, más adelante explicaré cómo funcionan los for."
      ]
    },
    {
      "cell_type": "markdown",
      "metadata": {
        "id": "6hCHNVz4aLCZ"
      },
      "source": [
        "Los tabs o espacios solo se ignorarán dentro de paréntesis y corchetes."
      ]
    },
    {
      "cell_type": "code",
      "metadata": {
        "id": "hwGN2GGvaSP1"
      },
      "source": [
        "variable = (1 + 2 + 3 + 4+5+6+7 + 8+9 + 10) #Esta es una variable\n",
        "lista = [[1,2,3], [4, 5, 6]] #Esta es una lista que contiene 2 listas"
      ],
      "execution_count": null,
      "outputs": []
    },
    {
      "cell_type": "markdown",
      "metadata": {
        "id": "i0gOM00hafGE"
      },
      "source": [
        "Como podemos observar, los espacios entre los números y listas no importan, ya que están dentro de dos paréntesis o corchetes."
      ]
    },
    {
      "cell_type": "markdown",
      "metadata": {
        "id": "B_uT9r7oa75G"
      },
      "source": [
        "# Cadenas"
      ]
    },
    {
      "cell_type": "markdown",
      "metadata": {
        "id": "JEM_GHkNa-Pf"
      },
      "source": [
        "Las cadenas se usarán cuando queramos imprimir algo o cuando una variable, lista, etc. sea un String. Para las cadenas podemos utilizar comillas dobles o sencillas.\n",
        "<br> Veamos un ejemplo."
      ]
    },
    {
      "cell_type": "code",
      "metadata": {
        "id": "iEYlzxZHbVjJ"
      },
      "source": [
        "type(\"esto es una cadena\")\n",
        "type('esto también es una cadena')\n",
        "# 'type' se utiliza cuando queremos saber el tipo de dato"
      ],
      "execution_count": null,
      "outputs": []
    },
    {
      "cell_type": "markdown",
      "metadata": {
        "id": "p087Rth1bUbt"
      },
      "source": [
        "Cuando queramos imprimir una cadena la cual queramos que imprima comillas, por ejemplo, al citar una frase, haremos lo siguiente: <br>\n",
        "1) Si nuestra frase está dentro de comillas dobles, utilizaremos comillas simples para indicarle a Python que es un String.\n",
        "<br>\n",
        "2) Si nuestra frase está dentro de comillas simples, utilizaremos comillas dobles para indicarla a Python que es un String."
      ]
    },
    {
      "cell_type": "code",
      "metadata": {
        "id": "BBy6wOnhbx6x"
      },
      "source": [
        "print(\" 'Esta frase tiene comillas simples' \")\n",
        "print(' \"ESta frase tiene comillas dobles\" ')"
      ],
      "execution_count": null,
      "outputs": []
    },
    {
      "cell_type": "markdown",
      "metadata": {
        "id": "NcCPRW_ZcSDq"
      },
      "source": [
        "También existen las comillas triples que se utilizan para crear una cadena de varias líneas."
      ]
    },
    {
      "cell_type": "code",
      "metadata": {
        "id": "kLlNB1n_cX1G"
      },
      "source": [
        "print(\"\"\"Esto\n",
        "es una cadena\n",
        "de varias lineas\"\"\")"
      ],
      "execution_count": null,
      "outputs": []
    },
    {
      "cell_type": "markdown",
      "metadata": {
        "id": "pg9-CvmKcmFG"
      },
      "source": [
        "# Listas"
      ]
    },
    {
      "cell_type": "markdown",
      "metadata": {
        "id": "cOG4RD_tcnbU"
      },
      "source": [
        "En este documento utilizaremos mucho las listas. Una lista es un conjunto ordenado dentro de corchetes. <br> Veamos un ejemplo."
      ]
    },
    {
      "cell_type": "code",
      "metadata": {
        "id": "uKeflO5dczv2"
      },
      "source": [
        "lista_vacia = [] #Esto es una lista vacía\n",
        "lista_vacia #Podemos evitar escribir print() y simplemente escribir la variable a imprimir\n",
        "type(lista_vacia) #Imprimimos el tipo de dato que es lista_vacia"
      ],
      "execution_count": null,
      "outputs": []
    },
    {
      "cell_type": "code",
      "metadata": {
        "id": "6DWH9SyqdM-C"
      },
      "source": [
        "lista_enteros = [1,2,3,4,5] #Esta lista contiene números enteros\n",
        "lista_diversa = [\"cadena\", 0, 3.2, True] #Las listas pueden contener diferentes tipos\n",
        "                                         #de datos\n",
        "\n",
        "#Si imprimimos el tipo de dato individualmente veremos que:\n",
        "type(\"cadena\") #Este es un string\n",
        "type(0) #Este es un entero\n",
        "type(3.2) #Este es un float\n",
        "type(True) #Y este es un booleano\n",
        "\n",
        "#Si imprimimos el tipo de dato de nuestra lista veremos que:\n",
        "type(lista_diversa) #Esta es una lista que contiene un string, un entero, un float y un booleano"
      ],
      "execution_count": null,
      "outputs": []
    },
    {
      "cell_type": "markdown",
      "metadata": {
        "id": "79ArsqCSeB4q"
      },
      "source": [
        "Una lista también puede contener varias listas. Utilicemos nuestras listas anteriores y vamos a agregarlas a una sola lista."
      ]
    },
    {
      "cell_type": "code",
      "metadata": {
        "id": "d-DJ43aXeI-f"
      },
      "source": [
        "lista_listas = [lista_enteros, lista_diversa, lista_vacia]\n",
        "lista_listas #Imprimimos nuestra lista\n",
        "type(lista_listas) #Vemos el tipo de dato que es nuestra variable\n",
        "len(lista_listas) #Imprimimos la longitud de nuestra lista (len = length/longitud)\n",
        "sum(lista_enteros) #Sumamos todos los numeros de nuestra lista de enteros (sum = suma)"
      ],
      "execution_count": null,
      "outputs": []
    },
    {
      "cell_type": "markdown",
      "metadata": {
        "id": "PSaB6y0aiaaD"
      },
      "source": [
        "Como una lista contiene elementos, debemos de saber cómo imprimir u obtener un elemento en específico, para esto haremos lo siguiente:"
      ]
    },
    {
      "cell_type": "code",
      "metadata": {
        "id": "HtgNgJd6jOxQ"
      },
      "source": [
        "lista_listas[0] #Este retornará el primer elemento de nuestra lista\n",
        "#Como nuestra lista contiene listas, nuestro primer elemento es la lista de enteros"
      ],
      "execution_count": null,
      "outputs": []
    },
    {
      "cell_type": "markdown",
      "metadata": {
        "id": "ePlKRPN2jX3o"
      },
      "source": [
        "Para Python, una lista va desde el elemento 0 hasta el elemento N. Es decir, la indexación empieza en cero."
      ]
    },
    {
      "cell_type": "code",
      "metadata": {
        "id": "ZpqOJpX4jgmG"
      },
      "source": [
        "lista_listas[0][2]"
      ],
      "execution_count": null,
      "outputs": []
    },
    {
      "cell_type": "markdown",
      "metadata": {
        "id": "8jvVAjX5jtcY"
      },
      "source": [
        "Como dicho anteriormente, nuestra lista contiene listas, en este caso el código de arriba retornará el tercer elemento de la primera lista (lista_enteros). <br>\n",
        "El 0 significa que nos posicionaremos en el primer elemento, en este caso la primera lista (lista_enteros) y el 2 significa que de nuestra lista_enteros, vamos a retornar el tercer elemento (Recordemos que la indexación empieza en 0, entonces 0,1,2)."
      ]
    }
  ]
}