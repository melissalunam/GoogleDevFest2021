{
  "nbformat": 4,
  "nbformat_minor": 0,
  "metadata": {
    "colab": {
      "name": "Introduccion_a_Python.ipynb",
      "provenance": [],
      "authorship_tag": "ABX9TyNcLMLMZ5/lJarXx15xmC+l"
    },
    "kernelspec": {
      "name": "python3",
      "display_name": "Python 3"
    },
    "language_info": {
      "name": "python"
    }
  },
  "cells": [
    {
      "cell_type": "markdown",
      "metadata": {
        "id": "6RVhdJ16Ps1t"
      },
      "source": [
        "# Introducción"
      ]
    },
    {
      "cell_type": "markdown",
      "metadata": {
        "id": "p00ANKF_Qbke"
      },
      "source": [
        "*La siguiente información fue creada por [Melissa Luna](https://www.github.com/melissalunam) para fines educativos. <br> Este trabajo queda bajo la licencia GNU v3.0. Todos pueden copiar y distribuir copias textuales de este documento, pero no se permite cambiarlo.<br><br>Espero que esta Introducción a Python les sea de mucha ayuda. <br> Para cualquier consulta, me puedes contactar por mi correo electrónico: aime00cccma@gmail.com*"
      ]
    },
    {
      "cell_type": "markdown",
      "metadata": {
        "id": "e9UA8MFNPx2k"
      },
      "source": [
        "# Herramientas que necesitas antes que comenzar"
      ]
    },
    {
      "cell_type": "markdown",
      "metadata": {
        "id": "9Cj38JFCRBB_"
      },
      "source": [
        "Primero me gustaría platicarte que hay muchas formas de trabajar con Python: <br>\n",
        "1) Ya sea que quieras trabajar con [VisualStudioCode](https://www.code.visualstudio.com/) <br>\n",
        "2) Con [Anaconda](https://www.anaconda.com/products/individual) <br>\n",
        "3) Desde la terminal cmd <br>\n",
        "4) O desde [Colab](https://www.colab.research.google.com/) <br><br> Es importante saber que para algunas opciones es necesario instalar [Python](https://www.python.org/downloads/)."
      ]
    },
    {
      "cell_type": "markdown",
      "metadata": {
        "id": "9ibt7f9ySfNi"
      },
      "source": [
        "# Historia"
      ]
    },
    {
      "cell_type": "markdown",
      "metadata": {
        "id": "u6wLmVIX8co_"
      },
      "source": [
        "Python fue creado por Guido van Rossum en unas vacaciones de Navidad de 1989, pero fue hasta 1991 donde se dió a conocer la primer versión de este lenguaje.\n",
        "<br>El nombre 'Python' surge gracias a la afición del informático holandés, Guido van Rossum, por el grupo cómico británico 'Monty Python'."
      ]
    },
    {
      "cell_type": "markdown",
      "metadata": {
        "id": "VAi9Sc1QYE1Y"
      },
      "source": [
        "# Hello World"
      ]
    },
    {
      "cell_type": "markdown",
      "metadata": {
        "id": "IMQO_KAgYNVG"
      },
      "source": [
        "Vamos a crear nuestra primera línea de código. En el siguiente ejercicio se muestra cómo imprimir el famoso \"Hello World\", pero también se muestra una de las maneras que Python tiene para imprimir."
      ]
    },
    {
      "cell_type": "code",
      "metadata": {
        "id": "zkt5NBCxYcNr",
        "colab": {
          "base_uri": "https://localhost:8080/"
        },
        "outputId": "06a044d3-4ee1-4558-9acf-fdf3756e89fb"
      },
      "source": [
        "print(\"Hello World!\")"
      ],
      "execution_count": null,
      "outputs": [
        {
          "output_type": "stream",
          "name": "stdout",
          "text": [
            "Hello World!\n"
          ]
        }
      ]
    },
    {
      "cell_type": "markdown",
      "metadata": {
        "id": "__73qyHUYjmx"
      },
      "source": [
        "# Tabs/espacios"
      ]
    },
    {
      "cell_type": "markdown",
      "metadata": {
        "id": "epBAx_CiYnw8"
      },
      "source": [
        "Es importante mencionar que Python es un lenguaje muy sensible a espacios, mayúsculas y minusculas. \n",
        "<br> Primero veremos los espacios. Cada que trabajemos con un for, while, def, etc. tendremos que respetar las identaciones. Ya sea que lo hagas mediante la tecla 'tab' o presiones la tecla 'espacio' 4 veces."
      ]
    },
    {
      "cell_type": "code",
      "metadata": {
        "id": "csXL6Yi4ZCk6",
        "colab": {
          "base_uri": "https://localhost:8080/"
        },
        "outputId": "3443cda2-9040-4482-8a90-5abda22161bb"
      },
      "source": [
        "for i in [1,2,3,4,5]:\n",
        "  print(i) #En esta línea de código hay una identación\n",
        "print(\"fin\")"
      ],
      "execution_count": null,
      "outputs": [
        {
          "output_type": "stream",
          "name": "stdout",
          "text": [
            "1\n",
            "2\n",
            "3\n",
            "4\n",
            "5\n",
            "fin\n"
          ]
        }
      ]
    },
    {
      "cell_type": "markdown",
      "metadata": {
        "id": "yrX_qtPfZIrX"
      },
      "source": [
        "Por ahora no es importante que entiendas la función del código, si no que logres identificar el espacio o identación utilizada.\n",
        "<br> Veamos otro ejemplo."
      ]
    },
    {
      "cell_type": "code",
      "metadata": {
        "id": "fQc2DpNVZdE2",
        "colab": {
          "base_uri": "https://localhost:8080/"
        },
        "outputId": "5eae0624-2856-49f0-ddee-ffd61fd2ddd4"
      },
      "source": [
        "for i in [1,2,3,4,5]:\n",
        "  print(\"i: \", i)\n",
        "  for j in [1,2,3,4,5]:\n",
        "    print(\"\\t\", \"j: \", j) # \"\\t\" crea una tabulación al momento de imprimir\n",
        "  print(\"\\n\") # \"\\n\" crea un salto de línea al momento de imprimir\n",
        "print(\"fin\")"
      ],
      "execution_count": null,
      "outputs": [
        {
          "output_type": "stream",
          "name": "stdout",
          "text": [
            "i:  1\n",
            "\t j:  1\n",
            "\t j:  2\n",
            "\t j:  3\n",
            "\t j:  4\n",
            "\t j:  5\n",
            "\n",
            "\n",
            "i:  2\n",
            "\t j:  1\n",
            "\t j:  2\n",
            "\t j:  3\n",
            "\t j:  4\n",
            "\t j:  5\n",
            "\n",
            "\n",
            "i:  3\n",
            "\t j:  1\n",
            "\t j:  2\n",
            "\t j:  3\n",
            "\t j:  4\n",
            "\t j:  5\n",
            "\n",
            "\n",
            "i:  4\n",
            "\t j:  1\n",
            "\t j:  2\n",
            "\t j:  3\n",
            "\t j:  4\n",
            "\t j:  5\n",
            "\n",
            "\n",
            "i:  5\n",
            "\t j:  1\n",
            "\t j:  2\n",
            "\t j:  3\n",
            "\t j:  4\n",
            "\t j:  5\n",
            "\n",
            "\n",
            "fin\n"
          ]
        }
      ]
    },
    {
      "cell_type": "markdown",
      "metadata": {
        "id": "fP9xb0fzZutc"
      },
      "source": [
        "Como podemos observar, cada espacio es importante, ya que le decimos a Python qué líneas corresponden a qué 'for'. No te preocupes si es difícil entender esta línea de código, más adelante explicaré cómo funcionan los 'for'."
      ]
    },
    {
      "cell_type": "markdown",
      "metadata": {
        "id": "6hCHNVz4aLCZ"
      },
      "source": [
        "Los tabs o espacios solo se ignorarán dentro de paréntesis y corchetes."
      ]
    },
    {
      "cell_type": "code",
      "metadata": {
        "id": "hwGN2GGvaSP1"
      },
      "source": [
        "variable = (1 + 2 + 3 + 4+5+6+7 + 8+9 + 10) #Esta es una variable\n",
        "lista = [[1,2,3], [4, 5, 6]] #Esta es una lista que contiene 2 listas"
      ],
      "execution_count": null,
      "outputs": []
    },
    {
      "cell_type": "markdown",
      "metadata": {
        "id": "i0gOM00hafGE"
      },
      "source": [
        "Como podemos observar, los espacios entre los números y listas no importan, ya que están dentro de dos paréntesis o corchetes."
      ]
    },
    {
      "cell_type": "markdown",
      "metadata": {
        "id": "B_uT9r7oa75G"
      },
      "source": [
        "# Cadenas"
      ]
    },
    {
      "cell_type": "markdown",
      "metadata": {
        "id": "JEM_GHkNa-Pf"
      },
      "source": [
        "Las cadenas se usarán cuando queramos imprimir algo o cuando una variable, lista, etc. sea un String. Para las cadenas podemos utilizar comillas dobles o sencillas.\n",
        "<br> Veamos un ejemplo."
      ]
    },
    {
      "cell_type": "code",
      "metadata": {
        "id": "iEYlzxZHbVjJ",
        "colab": {
          "base_uri": "https://localhost:8080/"
        },
        "outputId": "501b0417-cc86-4b55-be58-ac5ddb0c59cf"
      },
      "source": [
        "type(\"esto es una cadena\")\n",
        "type('esto también es una cadena')\n",
        "# 'type' se utiliza cuando queremos saber el tipo de dato"
      ],
      "execution_count": null,
      "outputs": [
        {
          "output_type": "execute_result",
          "data": {
            "text/plain": [
              "str"
            ]
          },
          "metadata": {},
          "execution_count": 5
        }
      ]
    },
    {
      "cell_type": "markdown",
      "metadata": {
        "id": "p087Rth1bUbt"
      },
      "source": [
        "Cuando queramos imprimir una cadena la cual queramos que imprima comillas, por ejemplo, al citar una frase, haremos lo siguiente: <br>\n",
        "1) Si nuestra frase está dentro de comillas dobles, utilizaremos comillas simples para indicarle a Python que es un String.\n",
        "<br>\n",
        "2) Si nuestra frase está dentro de comillas simples, utilizaremos comillas dobles para indicarla a Python que es un String."
      ]
    },
    {
      "cell_type": "code",
      "metadata": {
        "id": "BBy6wOnhbx6x",
        "colab": {
          "base_uri": "https://localhost:8080/"
        },
        "outputId": "3930ea2e-e3b2-4d1b-d32d-3892bf7dea7c"
      },
      "source": [
        "print(\" 'Esta frase tiene comillas simples' \")\n",
        "print(' \"Esta frase tiene comillas dobles\" ')"
      ],
      "execution_count": null,
      "outputs": [
        {
          "output_type": "stream",
          "name": "stdout",
          "text": [
            " 'Esta frase tiene comillas simples' \n",
            " \"Esta frase tiene comillas dobles\" \n"
          ]
        }
      ]
    },
    {
      "cell_type": "markdown",
      "metadata": {
        "id": "NcCPRW_ZcSDq"
      },
      "source": [
        "También existen las comillas triples que se utilizan para crear una cadena de varias líneas."
      ]
    },
    {
      "cell_type": "code",
      "metadata": {
        "id": "kLlNB1n_cX1G",
        "colab": {
          "base_uri": "https://localhost:8080/"
        },
        "outputId": "7ad749c2-a1e7-4f51-f6ad-2acf260b5fff"
      },
      "source": [
        "print(\"\"\"Esto\n",
        "es una cadena\n",
        "de varias lineas\"\"\")"
      ],
      "execution_count": null,
      "outputs": [
        {
          "output_type": "stream",
          "name": "stdout",
          "text": [
            "Esto\n",
            "es una cadena\n",
            "de varias lineas\n"
          ]
        }
      ]
    },
    {
      "cell_type": "markdown",
      "metadata": {
        "id": "pg9-CvmKcmFG"
      },
      "source": [
        "# Listas"
      ]
    },
    {
      "cell_type": "markdown",
      "metadata": {
        "id": "cOG4RD_tcnbU"
      },
      "source": [
        "En este documento utilizaremos mucho las listas. Una lista es un conjunto ordenado dentro de corchetes. <br> Veamos un ejemplo."
      ]
    },
    {
      "cell_type": "code",
      "metadata": {
        "id": "uKeflO5dczv2",
        "colab": {
          "base_uri": "https://localhost:8080/"
        },
        "outputId": "d3911c32-c2aa-40e8-aa3a-65c1777af08d"
      },
      "source": [
        "lista_vacia = [] #Esto es una lista vacía\n",
        "lista_vacia #Podemos evitar escribir print() y simplemente escribir la variable a imprimir"
      ],
      "execution_count": null,
      "outputs": [
        {
          "output_type": "execute_result",
          "data": {
            "text/plain": [
              "[]"
            ]
          },
          "metadata": {},
          "execution_count": 9
        }
      ]
    },
    {
      "cell_type": "code",
      "metadata": {
        "colab": {
          "base_uri": "https://localhost:8080/"
        },
        "id": "AIsWSmjt9i05",
        "outputId": "d9fdd3f0-5036-4d86-f80c-16e4a14ecf45"
      },
      "source": [
        "type(lista_vacia) #Imprimimos el tipo de dato que es lista_vacia"
      ],
      "execution_count": null,
      "outputs": [
        {
          "output_type": "execute_result",
          "data": {
            "text/plain": [
              "list"
            ]
          },
          "metadata": {},
          "execution_count": 10
        }
      ]
    },
    {
      "cell_type": "code",
      "metadata": {
        "id": "6DWH9SyqdM-C",
        "colab": {
          "base_uri": "https://localhost:8080/"
        },
        "outputId": "20a85079-3578-45b4-ec32-4bd32eab94e9"
      },
      "source": [
        "lista_enteros = [1,2,3,4,5] #Esta lista contiene números enteros\n",
        "lista_diversa = [\"cadena\", 0, 3.2, True] #Las listas pueden contener diferentes tipos\n",
        "                                         #de datos\n",
        "\n",
        "#Si imprimimos el tipo de dato individualmente veremos que:\n",
        "print(type(\"cadena\")) #Este es un string\n",
        "print(type(0)) #Este es un entero\n",
        "print(type(3.2)) #Este es un float\n",
        "print(type(True)) #Y este es un booleano\n",
        "\n",
        "#Si imprimimos el tipo de dato de nuestra lista veremos que:\n",
        "print(type(lista_diversa)) #Esta es una lista que contiene un string, un entero, un float y un booleano"
      ],
      "execution_count": null,
      "outputs": [
        {
          "output_type": "stream",
          "name": "stdout",
          "text": [
            "<class 'str'>\n",
            "<class 'int'>\n",
            "<class 'float'>\n",
            "<class 'bool'>\n",
            "<class 'list'>\n"
          ]
        }
      ]
    },
    {
      "cell_type": "markdown",
      "metadata": {
        "id": "79ArsqCSeB4q"
      },
      "source": [
        "Una lista también puede contener varias listas. Utilicemos nuestras listas anteriores y vamos a agregarlas a una sola lista."
      ]
    },
    {
      "cell_type": "code",
      "metadata": {
        "id": "d-DJ43aXeI-f",
        "colab": {
          "base_uri": "https://localhost:8080/"
        },
        "outputId": "9fd10c2b-7169-48ba-ab38-ee55769f6cb5"
      },
      "source": [
        "lista_listas = [lista_enteros, lista_diversa, lista_vacia]\n",
        "lista_listas #Imprimimos nuestra lista"
      ],
      "execution_count": null,
      "outputs": [
        {
          "output_type": "execute_result",
          "data": {
            "text/plain": [
              "[[1, 2, 3, 4, 5], ['cadena', 0, 3.2, True], []]"
            ]
          },
          "metadata": {},
          "execution_count": 13
        }
      ]
    },
    {
      "cell_type": "code",
      "metadata": {
        "colab": {
          "base_uri": "https://localhost:8080/"
        },
        "id": "fEfy0ueY91i2",
        "outputId": "2cde11e3-1caa-4849-e372-40dbbcd7d7aa"
      },
      "source": [
        "type(lista_listas) #Vemos el tipo de dato que es nuestra variable"
      ],
      "execution_count": null,
      "outputs": [
        {
          "output_type": "execute_result",
          "data": {
            "text/plain": [
              "list"
            ]
          },
          "metadata": {},
          "execution_count": 14
        }
      ]
    },
    {
      "cell_type": "code",
      "metadata": {
        "colab": {
          "base_uri": "https://localhost:8080/"
        },
        "id": "2tAbZOvd93Zo",
        "outputId": "2f4ea3a9-d2b5-41a6-e64f-e3c3d71969cc"
      },
      "source": [
        "len(lista_listas) #Imprimimos la longitud de nuestra lista (len = length/longitud)"
      ],
      "execution_count": null,
      "outputs": [
        {
          "output_type": "execute_result",
          "data": {
            "text/plain": [
              "3"
            ]
          },
          "metadata": {},
          "execution_count": 15
        }
      ]
    },
    {
      "cell_type": "code",
      "metadata": {
        "colab": {
          "base_uri": "https://localhost:8080/"
        },
        "id": "p89HPate96v-",
        "outputId": "4ef69a8a-a67f-4553-91c4-ae536d3a4561"
      },
      "source": [
        "sum(lista_enteros) #Sumamos todos los numeros de nuestra lista de enteros (sum = suma)"
      ],
      "execution_count": null,
      "outputs": [
        {
          "output_type": "execute_result",
          "data": {
            "text/plain": [
              "15"
            ]
          },
          "metadata": {},
          "execution_count": 16
        }
      ]
    },
    {
      "cell_type": "markdown",
      "metadata": {
        "id": "PSaB6y0aiaaD"
      },
      "source": [
        "Como una lista contiene elementos, debemos de saber cómo imprimir u obtener un elemento en específico, para esto haremos lo siguiente:"
      ]
    },
    {
      "cell_type": "code",
      "metadata": {
        "id": "HtgNgJd6jOxQ",
        "colab": {
          "base_uri": "https://localhost:8080/"
        },
        "outputId": "41664933-7e88-4248-f23a-5ccc3188d02b"
      },
      "source": [
        "lista_listas[0] #Este retornará el primer elemento de nuestra lista\n",
        "#Como nuestra lista contiene listas, nuestro primer elemento es la lista de enteros"
      ],
      "execution_count": null,
      "outputs": [
        {
          "output_type": "execute_result",
          "data": {
            "text/plain": [
              "[1, 2, 3, 4, 5]"
            ]
          },
          "metadata": {},
          "execution_count": 17
        }
      ]
    },
    {
      "cell_type": "markdown",
      "metadata": {
        "id": "ePlKRPN2jX3o"
      },
      "source": [
        "Para Python, una lista va desde el elemento 0 hasta el elemento N. Es decir, la indexación empieza en cero."
      ]
    },
    {
      "cell_type": "code",
      "metadata": {
        "id": "ZpqOJpX4jgmG",
        "colab": {
          "base_uri": "https://localhost:8080/"
        },
        "outputId": "da922445-262f-4f65-8be1-13f144c5577e"
      },
      "source": [
        "lista_listas[0][2]"
      ],
      "execution_count": null,
      "outputs": [
        {
          "output_type": "execute_result",
          "data": {
            "text/plain": [
              "3"
            ]
          },
          "metadata": {},
          "execution_count": 18
        }
      ]
    },
    {
      "cell_type": "markdown",
      "metadata": {
        "id": "8jvVAjX5jtcY"
      },
      "source": [
        "Como dicho anteriormente, nuestra lista contiene listas, en este caso el código de arriba retornará el tercer elemento de la primera lista (lista_enteros). <br>\n",
        "El 0 significa que nos posicionaremos en el primer elemento, en este caso la primera lista (lista_enteros) y el 2 significa que de nuestra lista_enteros, vamos a retornar el tercer elemento (Recordemos que la indexación empieza en 0, entonces 0,1,2)."
      ]
    },
    {
      "cell_type": "markdown",
      "metadata": {
        "id": "RC7-iDZc_LO7"
      },
      "source": [
        "En un futuro, al trabajar con miles y miles de datos, vamos a querer retornar o imprimir el último valor de la lista, para esto haremos lo siguiente:"
      ]
    },
    {
      "cell_type": "code",
      "metadata": {
        "colab": {
          "base_uri": "https://localhost:8080/"
        },
        "id": "3FLuI6AJ_XwE",
        "outputId": "0800ffba-8579-4d55-992f-010b327d59db"
      },
      "source": [
        "lista_enteros[-1] #Nos regresa el último valor de la lista\n",
        "#En este caso la indexación empieza en 1"
      ],
      "execution_count": null,
      "outputs": [
        {
          "output_type": "execute_result",
          "data": {
            "text/plain": [
              "5"
            ]
          },
          "metadata": {},
          "execution_count": 19
        }
      ]
    },
    {
      "cell_type": "code",
      "metadata": {
        "colab": {
          "base_uri": "https://localhost:8080/"
        },
        "id": "TDJKAHso_g9A",
        "outputId": "823228ea-b14b-45ea-fbef-b611338506bb"
      },
      "source": [
        "lista_enteros[-2] #Nos regresa el penúltimo valor de la lista"
      ],
      "execution_count": null,
      "outputs": [
        {
          "output_type": "execute_result",
          "data": {
            "text/plain": [
              "4"
            ]
          },
          "metadata": {},
          "execution_count": 20
        }
      ]
    },
    {
      "cell_type": "markdown",
      "metadata": {
        "id": "lRZjzz59_n-_"
      },
      "source": [
        "Ahora, ¿qué pasa si yo quiero regresar un rango? Para esto nos apoyaremos de ':'. Veamos unos ejemplos."
      ]
    },
    {
      "cell_type": "code",
      "metadata": {
        "colab": {
          "base_uri": "https://localhost:8080/"
        },
        "id": "Qk5kkYa3_yRu",
        "outputId": "f2548025-8a70-48ed-f6a3-5d953b19175c"
      },
      "source": [
        "lista_enteros[0:3] #Regresa los valores en la posición 0,1,2\n",
        "#El 3 no cuenta ya que Python lo cuenta como [0,3)"
      ],
      "execution_count": null,
      "outputs": [
        {
          "output_type": "execute_result",
          "data": {
            "text/plain": [
              "[1, 2, 3]"
            ]
          },
          "metadata": {},
          "execution_count": 21
        }
      ]
    },
    {
      "cell_type": "code",
      "metadata": {
        "colab": {
          "base_uri": "https://localhost:8080/"
        },
        "id": "1yl-c8E3ADdZ",
        "outputId": "1dcd6ff5-5d2c-48f6-dc37-55a400c153e7"
      },
      "source": [
        "lista_enteros[:3] #Nos regresa todos los valores desde el inicio hasta donde le indicamos\n",
        "#En este caso, como escribimos 3, nos retornará hasta el valor en la posición 2"
      ],
      "execution_count": null,
      "outputs": [
        {
          "output_type": "execute_result",
          "data": {
            "text/plain": [
              "[1, 2, 3]"
            ]
          },
          "metadata": {},
          "execution_count": 22
        }
      ]
    },
    {
      "cell_type": "code",
      "metadata": {
        "colab": {
          "base_uri": "https://localhost:8080/"
        },
        "id": "jYulTdnbAToy",
        "outputId": "4185275b-0e41-4a32-bd65-774b0b4e820b"
      },
      "source": [
        "lista_enteros[3:] #Regresa todos los valores, desde el número que le indicamos hasta el final"
      ],
      "execution_count": null,
      "outputs": [
        {
          "output_type": "execute_result",
          "data": {
            "text/plain": [
              "[4, 5]"
            ]
          },
          "metadata": {},
          "execution_count": 23
        }
      ]
    },
    {
      "cell_type": "code",
      "metadata": {
        "colab": {
          "base_uri": "https://localhost:8080/"
        },
        "id": "w20qFmvJAcV4",
        "outputId": "5280837a-13b3-4de8-e124-94d7936c624b"
      },
      "source": [
        "lista_enteros[2:5]\n",
        "#Regresa los valores desde la posición 2 hasta el 4"
      ],
      "execution_count": null,
      "outputs": [
        {
          "output_type": "execute_result",
          "data": {
            "text/plain": [
              "[3, 4, 5]"
            ]
          },
          "metadata": {},
          "execution_count": 25
        }
      ]
    },
    {
      "cell_type": "code",
      "metadata": {
        "colab": {
          "base_uri": "https://localhost:8080/"
        },
        "id": "C93JdYC_AwXq",
        "outputId": "5e992f63-6136-412b-fe40-dec326588e05"
      },
      "source": [
        "lista_enteros[-3:]\n",
        "#Regresa desde el elemento 2 (o 3 de derecha a izquierda) hasta el final"
      ],
      "execution_count": null,
      "outputs": [
        {
          "output_type": "execute_result",
          "data": {
            "text/plain": [
              "[3, 4, 5]"
            ]
          },
          "metadata": {},
          "execution_count": 26
        }
      ]
    },
    {
      "cell_type": "code",
      "metadata": {
        "colab": {
          "base_uri": "https://localhost:8080/"
        },
        "id": "rVJJ3PSqA9IE",
        "outputId": "1cbf9e52-d3f1-4404-f43f-a3832d4cc821"
      },
      "source": [
        "lista_enteros[:] #Regresa todos los elementos"
      ],
      "execution_count": null,
      "outputs": [
        {
          "output_type": "execute_result",
          "data": {
            "text/plain": [
              "[1, 2, 3, 4, 5]"
            ]
          },
          "metadata": {},
          "execution_count": 27
        }
      ]
    },
    {
      "cell_type": "code",
      "metadata": {
        "colab": {
          "base_uri": "https://localhost:8080/"
        },
        "id": "ph8qc_sCBByG",
        "outputId": "86e71101-c5c6-417d-efbe-33f3850aca55"
      },
      "source": [
        "lista_enteros[1:-1] #Elementos 1 hasta el último (sin contar el último)"
      ],
      "execution_count": null,
      "outputs": [
        {
          "output_type": "execute_result",
          "data": {
            "text/plain": [
              "[2, 3, 4]"
            ]
          },
          "metadata": {},
          "execution_count": 28
        }
      ]
    },
    {
      "cell_type": "markdown",
      "metadata": {
        "id": "RXob89gKBSyN"
      },
      "source": [
        "También podemos hacer uso de 'in' para saber si un elemento está dentro de nuestra lista deseada. Esto nos retornará un valor booleano, es decir, True o False."
      ]
    },
    {
      "cell_type": "code",
      "metadata": {
        "colab": {
          "base_uri": "https://localhost:8080/"
        },
        "id": "jdCBtJ_5BPiC",
        "outputId": "d0c61c1a-0cdf-4dd0-d717-43c78caec49c"
      },
      "source": [
        "1 in lista_enteros"
      ],
      "execution_count": null,
      "outputs": [
        {
          "output_type": "execute_result",
          "data": {
            "text/plain": [
              "True"
            ]
          },
          "metadata": {},
          "execution_count": 29
        }
      ]
    },
    {
      "cell_type": "code",
      "metadata": {
        "id": "tnND8TQaBdB4",
        "colab": {
          "base_uri": "https://localhost:8080/"
        },
        "outputId": "0c45c978-cf90-4d6c-93be-45b04e2163d4"
      },
      "source": [
        "0 in lista_enteros"
      ],
      "execution_count": null,
      "outputs": [
        {
          "output_type": "execute_result",
          "data": {
            "text/plain": [
              "False"
            ]
          },
          "metadata": {},
          "execution_count": 30
        }
      ]
    }
  ]
}