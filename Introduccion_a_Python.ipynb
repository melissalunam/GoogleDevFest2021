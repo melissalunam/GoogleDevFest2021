{
  "nbformat": 4,
  "nbformat_minor": 0,
  "metadata": {
    "colab": {
      "name": "Introduccion_a_Python.ipynb",
      "provenance": [],
      "authorship_tag": "ABX9TyMpSGYlJB/cemY34vHfFpLS",
      "include_colab_link": true
    },
    "kernelspec": {
      "name": "python3",
      "display_name": "Python 3"
    },
    "language_info": {
      "name": "python"
    }
  },
  "cells": [
    {
      "cell_type": "markdown",
      "metadata": {
        "id": "view-in-github",
        "colab_type": "text"
      },
      "source": [
        "<a href=\"https://colab.research.google.com/github/melissalunam/GoogleDevFest2021/blob/main/Introduccion_a_Python.ipynb\" target=\"_parent\"><img src=\"https://colab.research.google.com/assets/colab-badge.svg\" alt=\"Open In Colab\"/></a>"
      ]
    },
    {
      "cell_type": "markdown",
      "metadata": {
        "id": "6RVhdJ16Ps1t"
      },
      "source": [
        "# Introducción"
      ]
    },
    {
      "cell_type": "markdown",
      "metadata": {
        "id": "p00ANKF_Qbke"
      },
      "source": [
        "*La siguiente información fue creada por [Melissa Luna](https://www.github.com/melissalunam) para fines educativos. <br> Este trabajo queda bajo la licencia GNU Versión 3. Todos pueden copiar y distribuir copias textuales de este documento, pero no se permite cambiarlo.<br><br>Espero que esta Introducción a Python les sea de mucha ayuda. <br> Para cualquier consulta, me puedes contactar por mi correo electrónico: aime00cccma@gmail.com*"
      ]
    },
    {
      "cell_type": "markdown",
      "metadata": {
        "id": "e9UA8MFNPx2k"
      },
      "source": [
        "# Herramientas que necesitas antes que comenzar"
      ]
    },
    {
      "cell_type": "markdown",
      "metadata": {
        "id": "u-WL2wEmQmUv"
      },
      "source": [
        "**Estoy muy orgullosa de ti por dar el primer paso a tu aprendizaje en Python. A continuación te daré las herramientas necesarias para comenzar este nuevo camino. ¡Mucho éxito!**"
      ]
    },
    {
      "cell_type": "markdown",
      "metadata": {
        "id": "9Cj38JFCRBB_"
      },
      "source": [
        "Primero me gustaría platicarte que hay muchas formas de trabajar con Python: <br>\n",
        "1) Ya sea que quieras trabajar con [VisualStudioCode](https://www.code.visualstudio.com/) <br>\n",
        "2) Con [Anaconda](https://www.anaconda.com/products/individual) <br>\n",
        "3) Desde la terminal cmd <br>\n",
        "4) O desde [Colab](https://www.colab.research.google.com/) <br><br> Es importante saber que para algunas opciones es necesario instalar [Python](https://www.python.org/downloads/)."
      ]
    },
    {
      "cell_type": "markdown",
      "metadata": {
        "id": "9ibt7f9ySfNi"
      },
      "source": [
        ""
      ]
    }
  ]
}